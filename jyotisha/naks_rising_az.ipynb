{
 "cells": [
  {
   "cell_type": "code",
   "execution_count": 1,
   "metadata": {},
   "outputs": [
    {
     "data": {
      "text/plain": [
       "<SkyCoord (AltAz: obstime=2017-02-05 20:12:18.000, location=(3871196.57989284, -568949.21128116, 5020178.6461387) m, pressure=0.0 hPa, temperature=0.0 deg_C, relative_humidity=0.0, obswl=1.0 micron): (az, alt) in deg\n",
       "    (180.18095975, -0.34268787)>"
      ]
     },
     "execution_count": 1,
     "metadata": {},
     "output_type": "execute_result"
    }
   ],
   "source": [
    "from astropy.coordinates import EarthLocation,SkyCoord\n",
    "from astropy.time import Time\n",
    "from astropy import units as u\n",
    "from astropy.coordinates import AltAz\n",
    "\n",
    "observing_location = EarthLocation(lat='52.2532', lon='351.63910339111703', height=100*u.m)  \n",
    "observing_time = Time('2017-02-05 20:12:18')  \n",
    "aa = AltAz(location=observing_location, obstime=observing_time)\n",
    "\n",
    "coord = SkyCoord('4h42m', '-38d6m50.8s')\n",
    "coord.transform_to(aa)"
   ]
  },
  {
   "cell_type": "code",
   "execution_count": 2,
   "metadata": {},
   "outputs": [],
   "source": [
    "import NaksUtils as nsu\n",
    "import JdUtils as jdu"
   ]
  },
  {
   "cell_type": "code",
   "execution_count": null,
   "metadata": {},
   "outputs": [],
   "source": []
  }
 ],
 "metadata": {
  "interpreter": {
   "hash": "8b6465b439d0b858f64c4be85fbbf97ea296fc2e711cd15c5e75fba072473a57"
  },
  "kernelspec": {
   "display_name": "Python 3.9.10 ('tfmetal')",
   "language": "python",
   "name": "python3"
  },
  "language_info": {
   "codemirror_mode": {
    "name": "ipython",
    "version": 3
   },
   "file_extension": ".py",
   "mimetype": "text/x-python",
   "name": "python",
   "nbconvert_exporter": "python",
   "pygments_lexer": "ipython3",
   "version": "3.9.10 | packaged by conda-forge | (main, Feb  1 2022, 21:27:43) \n[Clang 11.1.0 ]"
  },
  "orig_nbformat": 4
 },
 "nbformat": 4,
 "nbformat_minor": 2
}
