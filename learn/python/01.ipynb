{
 "cells": [
  {
   "cell_type": "code",
   "execution_count": 1,
   "metadata": {},
   "outputs": [
    {
     "name": "stdout",
     "output_type": "stream",
     "text": [
      "Hello Py38 - Nirmal & Anand\n"
     ]
    }
   ],
   "source": [
    "print (\"Hello Py38 - Nirmal & Anand\")"
   ]
  },
  {
   "cell_type": "code",
   "execution_count": null,
   "metadata": {},
   "outputs": [],
   "source": []
  },
  {
   "cell_type": "code",
   "execution_count": 2,
   "metadata": {},
   "outputs": [
    {
     "data": {
      "text/plain": [
       "'Hello Py38 - Again'"
      ]
     },
     "execution_count": 2,
     "metadata": {},
     "output_type": "execute_result"
    }
   ],
   "source": [
    "\"Hello Py38 - Again\""
   ]
  },
  {
   "cell_type": "code",
   "execution_count": 3,
   "metadata": {},
   "outputs": [
    {
     "data": {
      "text/plain": [
       "1"
      ]
     },
     "execution_count": 3,
     "metadata": {},
     "output_type": "execute_result"
    }
   ],
   "source": [
    "1"
   ]
  },
  {
   "cell_type": "code",
   "execution_count": 4,
   "metadata": {},
   "outputs": [
    {
     "data": {
      "text/plain": [
       "6.662462759719942e+72"
      ]
     },
     "execution_count": 4,
     "metadata": {},
     "output_type": "execute_result"
    }
   ],
   "source": [
    "123456789.0**9\n"
   ]
  },
  {
   "attachments": {},
   "cell_type": "markdown",
   "metadata": {},
   "source": [
    "Euler's identity: $ e^{i \\pi} + 1 = 0 $\n",
    "\n",
    "### RMSE equation - Markdown cells \n",
    "- Bullet1\n",
    "\n",
    "$$\n",
    "\\sqrt{\\frac{1}{m}\\sum_{i=1}^m(y_i - \\hat{y}_i)^2}\n",
    "$$\n",
    "\n"
   ]
  },
  {
   "attachments": {},
   "cell_type": "markdown",
   "metadata": {},
   "source": [
    "# Learn\n",
    "- https://www.kaggle.com/learn/python - Python\n",
    "- https://www.kaggle.com/learn/ - other related courses\n"
   ]
  },
  {
   "cell_type": "code",
   "execution_count": 5,
   "metadata": {},
   "outputs": [
    {
     "data": {
      "text/plain": [
       "[1, 2, 3, 4, 5, 6, 7, 8, 9, 10]"
      ]
     },
     "execution_count": 5,
     "metadata": {},
     "output_type": "execute_result"
    }
   ],
   "source": [
    "[1, 2, 3, 4, 5, 6, 7, 8, 9, 10]"
   ]
  },
  {
   "cell_type": "code",
   "execution_count": 6,
   "metadata": {},
   "outputs": [
    {
     "data": {
      "text/plain": [
       "{'Jan': 0,\n",
       " 'Feb': 1,\n",
       " 'Mar': 2,\n",
       " 'Apr': 3,\n",
       " 'May': 4,\n",
       " 'Jun': 5,\n",
       " 'Jul': 6,\n",
       " 'Aug': 7,\n",
       " 'Sep': 8,\n",
       " 'Oct': 9,\n",
       " 'Nov': 10,\n",
       " 'Dec': 11}"
      ]
     },
     "execution_count": 6,
     "metadata": {},
     "output_type": "execute_result"
    }
   ],
   "source": [
    "{'Jan':0, 'Feb':1, 'Mar':2, 'Apr':3, 'May':4, 'Jun':5, 'Jul':6, 'Aug':7, 'Sep':8, 'Oct':9, 'Nov':10, 'Dec':11}"
   ]
  },
  {
   "cell_type": "code",
   "execution_count": 11,
   "metadata": {},
   "outputs": [],
   "source": [
    "a = 5\n",
    "b = 10\n",
    "c = a + b\n",
    "d=a,b,c\n",
    "d, d[0], d[1]\t"
   ]
  },
  {
   "cell_type": "code",
   "execution_count": 13,
   "metadata": {},
   "outputs": [
    {
     "data": {
      "text/plain": [
       "(10, 5, 15)"
      ]
     },
     "execution_count": 13,
     "metadata": {},
     "output_type": "execute_result"
    }
   ],
   "source": [
    "a,b = b,a\n",
    "a,b,c"
   ]
  },
  {
   "cell_type": "code",
   "execution_count": 14,
   "metadata": {},
   "outputs": [
    {
     "data": {
      "text/plain": [
       "(4, 9, 100, 25, 225)"
      ]
     },
     "execution_count": 14,
     "metadata": {},
     "output_type": "execute_result"
    }
   ],
   "source": [
    "def square(x):\n",
    "\tx = x * x\n",
    "\treturn x\n",
    "\n",
    "square(2), square(3), square(a), square(b),square(c)"
   ]
  },
  {
   "cell_type": "code",
   "execution_count": 15,
   "metadata": {},
   "outputs": [
    {
     "data": {
      "text/plain": [
       "[4, 9, 100, 25, 225]"
      ]
     },
     "execution_count": 15,
     "metadata": {},
     "output_type": "execute_result"
    }
   ],
   "source": [
    "a1 = [ 2,3,a,b,c]\n",
    "[ square(x) for x in a1]"
   ]
  },
  {
   "cell_type": "code",
   "execution_count": 19,
   "metadata": {},
   "outputs": [
    {
     "data": {
      "text/plain": [
       "[(2, 4), (3, 9), (10, 100), (5, 25), (15, 225)]"
      ]
     },
     "execution_count": 19,
     "metadata": {},
     "output_type": "execute_result"
    }
   ],
   "source": [
    "\n",
    "[ (x , x**2) for x in [2,3,a,b,c] ]\n"
   ]
  },
  {
   "cell_type": "code",
   "execution_count": 2,
   "metadata": {},
   "outputs": [],
   "source": [
    "#declare a variable \n",
    "a = 5\n",
    "\n",
    "# declare a list\n",
    "my_list = [1, 2, 3, 4, 5]\n",
    "\n",
    "# declare a tuple\n",
    "my_tuple = (1, 2, 3, 4, 5)\n",
    "\n",
    "# declare a dictionary\n",
    "my_dict = {'Jan':0, 'Feb':1, 'Mar':2, 'Apr':3, 'May':4, 'Jun':5, 'Jul':6, 'Aug':7, 'Sep':8, 'Oct':9, 'Nov':10, 'Dec':11}\n",
    "\n",
    "#declare a set\n",
    "my_set = {1, 2, 3, 4, 5}\n",
    "\n",
    "# declare a string\n",
    "my_string = \"Hello World\"\n",
    "\n",
    "# declare a boolean\n",
    "my_bool = True\n",
    "\n",
    "#declare a float\n",
    "my_float = 1.23\n",
    "\n",
    "#declare a complex\n",
    "my_complex = 1+2j\n",
    "\n",
    "#declare a range\n",
    "my_range = range(10)"
   ]
  },
  {
   "cell_type": "code",
   "execution_count": 3,
   "metadata": {},
   "outputs": [
    {
     "data": {
      "text/plain": [
       "([1, 2, 3, 4, 5],\n",
       " [1, 2, 3, 4, 5],\n",
       " [1, 2, 3, 4, 5],\n",
       " ['H', 'e', 'l', 'l', 'o', ' ', 'W', 'o', 'r', 'l', 'd'],\n",
       " [0, 1, 2, 3, 4, 5, 6, 7, 8, 9],\n",
       " ['Jan',\n",
       "  'Feb',\n",
       "  'Mar',\n",
       "  'Apr',\n",
       "  'May',\n",
       "  'Jun',\n",
       "  'Jul',\n",
       "  'Aug',\n",
       "  'Sep',\n",
       "  'Oct',\n",
       "  'Nov',\n",
       "  'Dec'])"
      ]
     },
     "execution_count": 3,
     "metadata": {},
     "output_type": "execute_result"
    }
   ],
   "source": [
    "( \n",
    "\t[x for x in my_list] ,\n",
    "\t[x for x in my_tuple] ,\n",
    "\t[x for x in my_set] ,\n",
    "\t[x for x in my_string] ,\n",
    "\n",
    "\t[x for x in my_range] ,\n",
    "\t[x for x in my_dict] ,\n",
    ")"
   ]
  },
  {
   "cell_type": "code",
   "execution_count": 25,
   "metadata": {},
   "outputs": [
    {
     "name": "stdout",
     "output_type": "stream",
     "text": [
      "Jan 31\n",
      "Feb 28\n",
      "Mar 31\n",
      "Apr 30\n",
      "May 31\n",
      "Jun 30\n",
      "Jul 31\n",
      "Aug 31\n",
      "Sep 30\n",
      "Oct 31\n",
      "Nov 30\n",
      "Dec 31\n"
     ]
    },
    {
     "data": {
      "text/plain": [
       "{('Jan', 31): 31,\n",
       " ('Feb', 28): 28,\n",
       " ('Mar', 31): 31,\n",
       " ('Apr', 30): 30,\n",
       " ('May', 31): 31,\n",
       " ('Jun', 30): 30,\n",
       " ('Jul', 31): 31,\n",
       " ('Aug', 31): 31,\n",
       " ('Sep', 30): 30,\n",
       " ('Oct', 31): 31,\n",
       " ('Nov', 30): 30,\n",
       " ('Dec', 31): 31}"
      ]
     },
     "execution_count": 25,
     "metadata": {},
     "output_type": "execute_result"
    }
   ],
   "source": [
    "days_in_months = { 'Jan': 31, 'Feb': 28, 'Mar': 31, 'Apr': 30, 'May': 31, 'Jun': 30, 'Jul': 31, 'Aug': 31, 'Sep': 30, 'Oct': 31, 'Nov': 30, 'Dec': 31 }\n",
    "\n",
    "for month, days in days_in_months.items():\n",
    "    print (month, days)\n",
    "\n",
    "[ ( days, month) for month, days in days_in_months.items() ]\n",
    "\n",
    "{ kv:kv[1] for kv in days_in_months.items() }\n"
   ]
  },
  {
   "cell_type": "code",
   "execution_count": 30,
   "metadata": {},
   "outputs": [
    {
     "data": {
      "text/plain": [
       "(dict_keys(['Jan', 'Feb', 'Mar', 'Apr', 'May', 'Jun', 'Jul', 'Aug', 'Sep', 'Oct', 'Nov', 'Dec']),\n",
       " dict_values([31, 28, 31, 30, 31, 30, 31, 31, 30, 31, 30, 31]),\n",
       " {'Apr',\n",
       "  'Aug',\n",
       "  'Dec',\n",
       "  'Feb',\n",
       "  'Jan',\n",
       "  'Jul',\n",
       "  'Jun',\n",
       "  'Mar',\n",
       "  'May',\n",
       "  'Nov',\n",
       "  'Oct',\n",
       "  'Sep'},\n",
       " {28, 30, 31})"
      ]
     },
     "execution_count": 30,
     "metadata": {},
     "output_type": "execute_result"
    }
   ],
   "source": [
    "days_in_months.keys() , days_in_months.values(), set(days_in_months.keys()) ,set(days_in_months.values())"
   ]
  },
  {
   "cell_type": "code",
   "execution_count": 33,
   "metadata": {},
   "outputs": [
    {
     "data": {
      "text/plain": [
       "[' A♠',\n",
       " ' A♡',\n",
       " ' A♢',\n",
       " ' A♣',\n",
       " ' 2♠',\n",
       " ' 2♡',\n",
       " ' 2♢',\n",
       " ' 2♣',\n",
       " ' 3♠',\n",
       " ' 3♡',\n",
       " ' 3♢',\n",
       " ' 3♣',\n",
       " ' 4♠']"
      ]
     },
     "execution_count": 33,
     "metadata": {},
     "output_type": "execute_result"
    }
   ],
   "source": [
    "cards = [ 'A', '2', '3', '4', '5', '6', '7', '8', '9', '10', 'J', 'Q', 'K' ]\n",
    "suites = ['♠', '♡', '♢', '♣']\n",
    "\n",
    "# deck = [ (suite, card) for card in cards for suite in suites ]\n",
    "deck = [ f\"{card:>2s}{suite}\" for card in cards for suite in suites ]\n",
    "len(deck)\n",
    "deck[0:13]\n"
   ]
  },
  {
   "cell_type": "code",
   "execution_count": 36,
   "metadata": {},
   "outputs": [
    {
     "name": "stdout",
     "output_type": "stream",
     "text": [
      "[' 5♣', ' 3♣', ' J♢', ' A♠', ' 3♠']\n",
      "[' J♠', ' Q♡', '10♠', ' K♠', ' 9♡']\n"
     ]
    }
   ],
   "source": [
    "\n",
    "\n",
    "# deck = [ f\"{card}{suite}\" for card in cards for suite in suites ]\n",
    "\n",
    "\n",
    "print(deck[0:5])\n",
    "\n",
    "\n",
    "# shuffle the deck\n",
    "import random\n",
    "random.shuffle(deck)\n",
    "print(deck[0:5])\n",
    "\n",
    "# random.shuffle(deck)\n",
    "# print(deck[0:5])\n"
   ]
  },
  {
   "cell_type": "code",
   "execution_count": 40,
   "metadata": {},
   "outputs": [
    {
     "data": {
      "text/plain": [
       "[' A♠', ' A♢']"
      ]
     },
     "execution_count": 40,
     "metadata": {},
     "output_type": "execute_result"
    }
   ],
   "source": [
    "# deal the cards\n",
    "hands = [ deck[0:13], deck[13:26], deck[26:39], deck[39:52] ]\n",
    "[ ' '.join(x) for x in hands]\n",
    "\n",
    "# filter the deck\n",
    "[ x for x in hands[1] if 'A' in x ]\n",
    "\n",
    "\n"
   ]
  },
  {
   "cell_type": "code",
   "execution_count": 42,
   "metadata": {},
   "outputs": [
    {
     "data": {
      "text/plain": [
       "['01.ipynb']"
      ]
     },
     "execution_count": 42,
     "metadata": {},
     "output_type": "execute_result"
    }
   ],
   "source": [
    "import glob\n",
    "[ f for f in glob.glob(\"*\") if '~' not in f ]"
   ]
  },
  {
   "cell_type": "code",
   "execution_count": null,
   "metadata": {},
   "outputs": [],
   "source": []
  },
  {
   "cell_type": "code",
   "execution_count": 27,
   "metadata": {},
   "outputs": [
    {
     "data": {
      "text/plain": [
       "['../kovida/r_08_1.mp3',\n",
       " '../kovida/क_02.mp3',\n",
       " '../kovida/क_03.mp3',\n",
       " '../kovida/k10.jpg',\n",
       " '../kovida/क_07.mp3',\n",
       " '../kovida/क_06.mp3',\n",
       " '../kovida/क_10.mp3',\n",
       " '../kovida/क_04.mp3',\n",
       " '../kovida/क_05.mp3',\n",
       " '../kovida/क_11.mp3',\n",
       " '../kovida/r_02.mp3',\n",
       " '../kovida/a1.txt',\n",
       " '../kovida/r_03.mp3',\n",
       " '../kovida/k1.jpg',\n",
       " '../kovida/output.mkv',\n",
       " '../kovida/k3.jpg',\n",
       " '../kovida/kovida_04.mp4',\n",
       " '../kovida/k2.jpg',\n",
       " '../kovida/k6.jpg',\n",
       " '../kovida/r_04.mp3',\n",
       " '../kovida/r_10.mp3',\n",
       " '../kovida/xx1.mp3',\n",
       " '../kovida/r_05.mp3',\n",
       " '../kovida/kovida.jpg',\n",
       " '../kovida/k7.jpg',\n",
       " '../kovida/k5.jpg',\n",
       " '../kovida/r_07.mp3',\n",
       " '../kovida/feeble.mp3',\n",
       " '../kovida/r_06.mp3',\n",
       " '../kovida/k4.jpg',\n",
       " '../kovida/_x',\n",
       " '../kovida/k9.jpg',\n",
       " '../kovida/_zap.mp3',\n",
       " '../kovida/readme.md',\n",
       " '../kovida/क_08_1.mp3',\n",
       " '../kovida/k8.jpg',\n",
       " '../kovida/r_08.mp3',\n",
       " '../kovida/r_09.mp3',\n",
       " '../kovida/mp4',\n",
       " '../kovida/क_08.mp3',\n",
       " '../kovida/क_09.mp3',\n",
       " '../kovida/k08_1.jpg',\n",
       " '../kovida/concat.txt',\n",
       " '../posts/vgj_raw.md',\n",
       " '../posts/vgj_fix.md',\n",
       " '../python/01.ipynb']"
      ]
     },
     "execution_count": 27,
     "metadata": {},
     "output_type": "execute_result"
    }
   ],
   "source": [
    "import glob\n",
    "[ f1 for f0 in glob.glob(\"../*\") for f1 in glob.glob(f0 + \"/*\") ]"
   ]
  },
  {
   "cell_type": "code",
   "execution_count": 43,
   "metadata": {},
   "outputs": [
    {
     "name": "stdout",
     "output_type": "stream",
     "text": [
      "3.8.10 (default, May 19 2021, 11:01:55) \n",
      "[Clang 10.0.0 ]\n"
     ]
    }
   ],
   "source": [
    "# print version of python\n",
    "import sys\n",
    "print (sys.version)"
   ]
  },
  {
   "cell_type": "code",
   "execution_count": 47,
   "metadata": {},
   "outputs": [
    {
     "name": "stdout",
     "output_type": "stream",
     "text": [
      "Sun Nov 21 19:50:54 IST 2021\n",
      "[NbConvertApp] WARNING | pattern '01.pynb' matched no files\n",
      "This application is used to convert notebook files (*.ipynb) to various other\n",
      "formats.\n",
      "\n",
      "WARNING: THE COMMANDLINE INTERFACE MAY CHANGE IN FUTURE RELEASES.\n",
      "\n",
      "Options\n",
      "-------\n",
      "\n",
      "Arguments that take values are actually convenience aliases to full\n",
      "Configurables, whose aliases are listed on the help line. For more information\n",
      "on full configurables, see '--help-all'.\n",
      "\n",
      "--debug\n",
      "    set log level to logging.DEBUG (maximize logging output)\n",
      "--generate-config\n",
      "    generate default config file\n",
      "-y\n",
      "    Answer yes to any questions instead of prompting.\n",
      "--execute\n",
      "    Execute the notebook prior to export.\n",
      "--allow-errors\n",
      "    Continue notebook execution even if one of the cells throws an error and include the error message in the cell output (the default behaviour is to abort conversion). This flag is only relevant if '--execute' was specified, too.\n",
      "--stdin\n",
      "    read a single notebook file from stdin. Write the resulting notebook with default basename 'notebook.*'\n",
      "--stdout\n",
      "    Write notebook output to stdout instead of files.\n",
      "--inplace\n",
      "    Run nbconvert in place, overwriting the existing notebook (only \n",
      "    relevant when converting to notebook format)\n",
      "--clear-output\n",
      "    Clear output of current file and save in place, \n",
      "    overwriting the existing notebook.\n",
      "--no-prompt\n",
      "    Exclude input and output prompts from converted document.\n",
      "--no-input\n",
      "    Exclude input cells and output prompts from converted document. \n",
      "    This mode is ideal for generating code-free reports.\n",
      "--log-level=<Enum> (Application.log_level)\n",
      "    Default: 30\n",
      "    Choices: (0, 10, 20, 30, 40, 50, 'DEBUG', 'INFO', 'WARN', 'ERROR', 'CRITICAL')\n",
      "    Set the log level by value or name.\n",
      "--config=<Unicode> (JupyterApp.config_file)\n",
      "    Default: ''\n",
      "    Full path of a config file.\n",
      "--to=<Unicode> (NbConvertApp.export_format)\n",
      "    Default: 'html'\n",
      "    The export format to be used, either one of the built-in formats, or a\n",
      "    dotted object name that represents the import path for an `Exporter` class\n",
      "--template=<Unicode> (TemplateExporter.template_file)\n",
      "    Default: ''\n",
      "    Name of the template file to use\n",
      "--writer=<DottedObjectName> (NbConvertApp.writer_class)\n",
      "    Default: 'FilesWriter'\n",
      "    Writer class used to write the  results of the conversion\n",
      "--post=<DottedOrNone> (NbConvertApp.postprocessor_class)\n",
      "    Default: ''\n",
      "    PostProcessor class used to write the results of the conversion\n",
      "--output=<Unicode> (NbConvertApp.output_base)\n",
      "    Default: ''\n",
      "    overwrite base name use for output files. can only be used when converting\n",
      "    one notebook at a time.\n",
      "--output-dir=<Unicode> (FilesWriter.build_directory)\n",
      "    Default: ''\n",
      "    Directory to write output(s) to. Defaults to output to the directory of each\n",
      "    notebook. To recover previous default behaviour (outputting to the current\n",
      "    working directory) use . as the flag value.\n",
      "--reveal-prefix=<Unicode> (SlidesExporter.reveal_url_prefix)\n",
      "    Default: ''\n",
      "    The URL prefix for reveal.js (version 3.x). This defaults to the reveal CDN,\n",
      "    but can be any url pointing to a copy  of reveal.js.\n",
      "    For speaker notes to work, this must be a relative path to a local  copy of\n",
      "    reveal.js: e.g., \"reveal.js\".\n",
      "    If a relative path is given, it must be a subdirectory of the current\n",
      "    directory (from which the server is run).\n",
      "    See the usage documentation\n",
      "    (https://nbconvert.readthedocs.io/en/latest/usage.html#reveal-js-html-\n",
      "    slideshow) for more details.\n",
      "--nbformat=<Enum> (NotebookExporter.nbformat_version)\n",
      "    Default: 4\n",
      "    Choices: [1, 2, 3, 4]\n",
      "    The nbformat version to write. Use this to downgrade notebooks.\n",
      "\n",
      "To see all available configurables, use `--help-all`\n",
      "\n",
      "Examples\n",
      "--------\n",
      "\n",
      "    The simplest way to use nbconvert is\n",
      "    \n",
      "    > jupyter nbconvert mynotebook.ipynb\n",
      "    \n",
      "    which will convert mynotebook.ipynb to the default format (probably HTML).\n",
      "    \n",
      "    You can specify the export format with `--to`.\n",
      "    Options include ['asciidoc', 'custom', 'html', 'latex', 'markdown', 'notebook', 'pdf', 'python', 'rst', 'script', 'slides']\n",
      "    \n",
      "    > jupyter nbconvert --to latex mynotebook.ipynb\n",
      "    \n",
      "    Both HTML and LaTeX support multiple output templates. LaTeX includes\n",
      "    'base', 'article' and 'report'.  HTML includes 'basic' and 'full'. You\n",
      "    can specify the flavor of the format used.\n",
      "    \n",
      "    > jupyter nbconvert --to html --template basic mynotebook.ipynb\n",
      "    \n",
      "    You can also pipe the output to stdout, rather than a file\n",
      "    \n",
      "    > jupyter nbconvert mynotebook.ipynb --stdout\n",
      "    \n",
      "    PDF is generated via latex\n",
      "    \n",
      "    > jupyter nbconvert mynotebook.ipynb --to pdf\n",
      "    \n",
      "    You can get (and serve) a Reveal.js-powered slideshow\n",
      "    \n",
      "    > jupyter nbconvert myslides.ipynb --to slides --post serve\n",
      "    \n",
      "    Multiple notebooks can be given at the command line in a couple of \n",
      "    different ways:\n",
      "    \n",
      "    > jupyter nbconvert notebook*.ipynb\n",
      "    > jupyter nbconvert notebook1.ipynb notebook2.ipynb\n",
      "    \n",
      "    or you can specify the notebooks list in a config file, containing::\n",
      "    \n",
      "        c.NbConvertApp.notebooks = [\"my_notebook.ipynb\"]\n",
      "    \n",
      "    > jupyter nbconvert --config mycfg.py\n",
      "\n"
     ]
    }
   ],
   "source": [
    "!rm ./01~.py 2>/dev/null\n",
    "!date\n",
    "!~/anaconda3/bin/jupyter nbconvert 01.pynb --to script 2>&1 | tee ~/tmp/nbconvert.log\n"
   ]
  },
  {
   "cell_type": "code",
   "execution_count": 56,
   "metadata": {},
   "outputs": [
    {
     "data": {
      "text/plain": [
       "(57888, 110)"
      ]
     },
     "execution_count": 56,
     "metadata": {},
     "output_type": "execute_result"
    }
   ],
   "source": [
    "GG = 110\n",
    "\n",
    "def H(x):\n",
    "\tglobal GG\n",
    "\tGG =57777\n",
    "\treturn GG+x+1\n",
    "\n",
    "H(GG), GG\n"
   ]
  },
  {
   "cell_type": "code",
   "execution_count": 60,
   "metadata": {},
   "outputs": [
    {
     "name": "stdout",
     "output_type": "stream",
     "text": [
      "print(\"Hello World\")"
     ]
    }
   ],
   "source": [
    "!cat x*"
   ]
  },
  {
   "cell_type": "code",
   "execution_count": 61,
   "metadata": {},
   "outputs": [
    {
     "data": {
      "text/plain": [
       "(1, ['print(\"Hello World\")'])"
      ]
     },
     "execution_count": 61,
     "metadata": {},
     "output_type": "execute_result"
    }
   ],
   "source": [
    "# write a string to file using with\n",
    "with open(\"xx~.py\", \"w\") as f:\n",
    "\tf.write(\"print(\\\"Hello World\\\")\")\n",
    "\n",
    "# read a file using with\n",
    "with open(\"xx~.py\", \"r\") as f:\n",
    "\tlines = f.readlines()\n",
    "\n",
    "len(lines), lines\n",
    "\n"
   ]
  },
  {
   "cell_type": "code",
   "execution_count": null,
   "metadata": {},
   "outputs": [],
   "source": [
    "# create a class\n",
    "class MyClass:\n",
    "\tdef __init__(self, x):\n",
    "\t\tself.x = x\n",
    "\tdef __str__(self):\n",
    "\t\treturn str(self.x)"
   ]
  },
  {
   "cell_type": "code",
   "execution_count": 64,
   "metadata": {},
   "outputs": [
    {
     "name": "stdout",
     "output_type": "stream",
     "text": [
      "(1, 2) (3, 4)\n"
     ]
    },
    {
     "data": {
      "text/plain": [
       "(Data(1, 2), Data(3, 4), Data(4, 6), Data(2, 2))"
      ]
     },
     "execution_count": 64,
     "metadata": {},
     "output_type": "execute_result"
    }
   ],
   "source": [
    "# create a  useful class\n",
    "class Point:\n",
    "\tdef __init__(self, x, y):\n",
    "\t\tself.x = x\n",
    "\t\tself.y = y\n",
    "\n",
    "\tdef __repr__(self):\n",
    "\t\treturn f\"Data({self.x}, {self.y})\"\n",
    "\n",
    "\tdef __str__(self):\n",
    "\t\treturn f\"({self.x}, {self.y})\"\n",
    "\n",
    "\tdef __add__(self, other):\n",
    "\t\treturn Point(self.x + other.x, self.y + other.y)\n",
    "\n",
    "\tdef __sub__(self, other):\n",
    "\t\treturn Point(self.x - other.x, self.y - other.y)\n",
    "\n",
    "d0 = Point(1, 2)\n",
    "d1 = Point(3, 4)\n",
    "\n",
    "print(d0, d1)\n",
    "d0, d1, d1+d0, d1-d0\n",
    "\n",
    "\n",
    "\n"
   ]
  },
  {
   "cell_type": "code",
   "execution_count": null,
   "metadata": {},
   "outputs": [],
   "source": [
    "# implement binary search\n",
    "def binary_search(a, x, lo=0, hi=None):\n",
    "\tif hi is None:\n",
    "\t\thi = len(a)\n",
    "\twhile lo < hi:\n",
    "\t\tmid = (lo + hi) // 2\n",
    "\t\tif a[mid] < x:\n",
    "\t\t\tlo = mid + 1\n",
    "\t\telse:\n",
    "\t\t\thi = mid\n",
    "\treturn lo\n",
    "\t"
   ]
  },
  {
   "cell_type": "code",
   "execution_count": 11,
   "metadata": {},
   "outputs": [
    {
     "data": {
      "text/html": [
       "<div>\n",
       "<style scoped>\n",
       "    .dataframe tbody tr th:only-of-type {\n",
       "        vertical-align: middle;\n",
       "    }\n",
       "\n",
       "    .dataframe tbody tr th {\n",
       "        vertical-align: top;\n",
       "    }\n",
       "\n",
       "    .dataframe thead th {\n",
       "        text-align: right;\n",
       "    }\n",
       "</style>\n",
       "<table border=\"1\" class=\"dataframe\">\n",
       "  <thead>\n",
       "    <tr style=\"text-align: right;\">\n",
       "      <th></th>\n",
       "      <th>Jupiter</th>\n",
       "      <th>Venus</th>\n",
       "      <th>Mars</th>\n",
       "      <th>Saturn</th>\n",
       "      <th>Mercury</th>\n",
       "      <th>Sun</th>\n",
       "      <th>δ Cnc</th>\n",
       "      <th>α Boo</th>\n",
       "      <th>α1 Lib</th>\n",
       "      <th>β Aqr</th>\n",
       "      <th>δ Leo</th>\n",
       "      <th>ε Psc</th>\n",
       "      <th>dist</th>\n",
       "    </tr>\n",
       "    <tr>\n",
       "      <th>jd</th>\n",
       "      <th></th>\n",
       "      <th></th>\n",
       "      <th></th>\n",
       "      <th></th>\n",
       "      <th></th>\n",
       "      <th></th>\n",
       "      <th></th>\n",
       "      <th></th>\n",
       "      <th></th>\n",
       "      <th></th>\n",
       "      <th></th>\n",
       "      <th></th>\n",
       "      <th></th>\n",
       "    </tr>\n",
       "  </thead>\n",
       "  <tbody>\n",
       "    <tr>\n",
       "      <th>844477.5</th>\n",
       "      <td>(-1.18, 352.76, 51.47, 17.97)</td>\n",
       "      <td>(7.46, 260.34, 321.29, -7.76)</td>\n",
       "      <td>(0.9, 207.59, 268.35, -23.12)</td>\n",
       "      <td>(1.62, 219.78, 281.51, -21.98)</td>\n",
       "      <td>(0.3, 297.78, 358.69, -0.32)</td>\n",
       "      <td>(0.0, 281.2, 343.57, -7.24)</td>\n",
       "      <td>(-0.42, 67.84, 66.04, 21.69)</td>\n",
       "      <td>(30.92, 143.01, 159.0, 42.79)</td>\n",
       "      <td>(0.74, 164.13, 165.73, 7.05)</td>\n",
       "      <td>(9.01, 262.57, 262.41, -14.76)</td>\n",
       "      <td>(14.09, 100.3, 102.63, 37.6)</td>\n",
       "      <td>(0.97, 316.65, 318.9, -15.27)</td>\n",
       "      <td>-1.18</td>\n",
       "    </tr>\n",
       "    <tr>\n",
       "      <th>845477.5</th>\n",
       "      <td>(0.79, 96.38, 159.35, 9.84)</td>\n",
       "      <td>(-1.57, 219.45, 281.39, -25.19)</td>\n",
       "      <td>(-1.89, 333.85, 32.99, 11.58)</td>\n",
       "      <td>(0.43, 240.45, 303.56, -19.97)</td>\n",
       "      <td>(0.82, 174.92, 233.54, -18.85)</td>\n",
       "      <td>(-0.01, 184.0, 242.8, -21.61)</td>\n",
       "      <td>(-0.42, 67.88, 66.08, 21.69)</td>\n",
       "      <td>(30.92, 143.05, 159.04, 42.77)</td>\n",
       "      <td>(0.74, 164.17, 165.76, 7.04)</td>\n",
       "      <td>(9.01, 262.61, 262.45, -14.76)</td>\n",
       "      <td>(14.09, 100.33, 102.67, 37.59)</td>\n",
       "      <td>(0.97, 316.68, 318.94, -15.26)</td>\n",
       "      <td>0.79</td>\n",
       "    </tr>\n",
       "    <tr>\n",
       "      <th>846477.5</th>\n",
       "      <td>(1.4, 153.36, 212.32, -11.87)</td>\n",
       "      <td>(0.82, 82.41, 145.98, 14.93)</td>\n",
       "      <td>(1.07, 118.6, 179.93, 1.27)</td>\n",
       "      <td>(-1.13, 278.79, 341.7, -9.24)</td>\n",
       "      <td>(-4.26, 100.91, 161.58, 3.46)</td>\n",
       "      <td>(0.0, 88.63, 151.69, 11.99)</td>\n",
       "      <td>(-0.42, 67.91, 66.12, 21.7)</td>\n",
       "      <td>(30.92, 143.08, 159.08, 42.76)</td>\n",
       "      <td>(0.74, 164.2, 165.8, 7.02)</td>\n",
       "      <td>(9.01, 262.64, 262.49, -14.76)</td>\n",
       "      <td>(14.09, 100.36, 102.72, 37.59)</td>\n",
       "      <td>(0.97, 316.72, 318.98, -15.24)</td>\n",
       "      <td>1.40</td>\n",
       "    </tr>\n",
       "    <tr>\n",
       "      <th>847477.5</th>\n",
       "      <td>(-0.26, 256.43, 319.89, -16.35)</td>\n",
       "      <td>(-0.84, 312.82, 12.82, 4.68)</td>\n",
       "      <td>(-0.97, 334.9, 33.62, 12.78)</td>\n",
       "      <td>(-2.05, 317.07, 17.22, 5.24)</td>\n",
       "      <td>(1.69, 11.19, 70.14, 24.44)</td>\n",
       "      <td>(0.01, 357.21, 55.62, 20.18)</td>\n",
       "      <td>(-0.42, 67.94, 66.16, 21.7)</td>\n",
       "      <td>(30.92, 143.12, 159.12, 42.74)</td>\n",
       "      <td>(0.74, 164.23, 165.83, 7.01)</td>\n",
       "      <td>(9.01, 262.67, 262.53, -14.76)</td>\n",
       "      <td>(14.09, 100.4, 102.77, 37.59)</td>\n",
       "      <td>(0.97, 316.75, 319.01, -15.23)</td>\n",
       "      <td>-0.26</td>\n",
       "    </tr>\n",
       "    <tr>\n",
       "      <th>848477.5</th>\n",
       "      <td>(-1.43, 324.38, 23.74, 8.58)</td>\n",
       "      <td>(-0.03, 309.93, 9.8, 4.24)</td>\n",
       "      <td>(3.63, 138.5, 199.12, -4.32)</td>\n",
       "      <td>(-2.58, 344.35, 43.32, 14.26)</td>\n",
       "      <td>(-0.2, 239.69, 302.8, -20.77)</td>\n",
       "      <td>(-0.0, 263.49, 326.67, -13.81)</td>\n",
       "      <td>(-0.42, 67.98, 66.2, 21.71)</td>\n",
       "      <td>(30.92, 143.15, 159.16, 42.73)</td>\n",
       "      <td>(0.74, 164.27, 165.87, 6.99)</td>\n",
       "      <td>(9.01, 262.71, 262.56, -14.76)</td>\n",
       "      <td>(14.09, 100.44, 102.81, 37.58)</td>\n",
       "      <td>(0.97, 316.79, 319.05, -15.22)</td>\n",
       "      <td>-1.43</td>\n",
       "    </tr>\n",
       "    <tr>\n",
       "      <th>...</th>\n",
       "      <td>...</td>\n",
       "      <td>...</td>\n",
       "      <td>...</td>\n",
       "      <td>...</td>\n",
       "      <td>...</td>\n",
       "      <td>...</td>\n",
       "      <td>...</td>\n",
       "      <td>...</td>\n",
       "      <td>...</td>\n",
       "      <td>...</td>\n",
       "      <td>...</td>\n",
       "      <td>...</td>\n",
       "      <td>...</td>\n",
       "    </tr>\n",
       "    <tr>\n",
       "      <th>1351477.5</th>\n",
       "      <td>(-0.84, 21.83, 61.72, 20.4)</td>\n",
       "      <td>(-0.57, 293.38, 337.3, -10.31)</td>\n",
       "      <td>(0.64, 233.33, 275.58, -23.1)</td>\n",
       "      <td>(-0.25, 277.37, 321.77, -15.57)</td>\n",
       "      <td>(1.29, 303.12, 345.66, -4.86)</td>\n",
       "      <td>(0.0, 324.15, 5.45, 2.39)</td>\n",
       "      <td>(-0.24, 86.92, 86.64, 23.53)</td>\n",
       "      <td>(30.88, 162.21, 177.72, 35.13)</td>\n",
       "      <td>(0.63, 183.22, 183.21, -0.72)</td>\n",
       "      <td>(8.87, 281.64, 281.88, -14.46)</td>\n",
       "      <td>(14.19, 119.42, 125.26, 34.42)</td>\n",
       "      <td>(0.99, 335.73, 337.21, -8.64)</td>\n",
       "      <td>-0.84</td>\n",
       "    </tr>\n",
       "    <tr>\n",
       "      <th>1352477.5</th>\n",
       "      <td>(1.07, 123.06, 166.49, 7.07)</td>\n",
       "      <td>(0.01, 220.95, 262.04, -23.62)</td>\n",
       "      <td>(-0.57, 340.08, 20.35, 8.11)</td>\n",
       "      <td>(-1.56, 299.95, 343.8, -8.74)</td>\n",
       "      <td>(-2.14, 240.19, 283.25, -25.43)</td>\n",
       "      <td>(-0.0, 227.61, 269.32, -23.84)</td>\n",
       "      <td>(-0.24, 86.97, 86.69, 23.54)</td>\n",
       "      <td>(30.88, 162.25, 177.75, 35.12)</td>\n",
       "      <td>(0.63, 183.26, 183.24, -0.74)</td>\n",
       "      <td>(8.87, 281.68, 281.92, -14.46)</td>\n",
       "      <td>(14.19, 119.46, 125.31, 34.41)</td>\n",
       "      <td>(0.99, 335.77, 337.25, -8.62)</td>\n",
       "      <td>1.07</td>\n",
       "    </tr>\n",
       "    <tr>\n",
       "      <th>1353477.5</th>\n",
       "      <td>(1.15, 181.52, 221.07, -14.97)</td>\n",
       "      <td>(0.52, 164.57, 204.51, -9.81)</td>\n",
       "      <td>(0.84, 149.56, 190.68, -3.75)</td>\n",
       "      <td>(-2.73, 343.98, 24.79, 7.54)</td>\n",
       "      <td>(1.72, 120.03, 163.9, 8.87)</td>\n",
       "      <td>(-0.0, 131.38, 173.69, 2.8)</td>\n",
       "      <td>(-0.24, 87.01, 86.73, 23.54)</td>\n",
       "      <td>(30.88, 162.29, 177.79, 35.1)</td>\n",
       "      <td>(0.63, 183.3, 183.27, -0.75)</td>\n",
       "      <td>(8.87, 281.72, 281.96, -14.46)</td>\n",
       "      <td>(14.19, 119.5, 125.35, 34.4)</td>\n",
       "      <td>(0.99, 335.81, 337.29, -8.61)</td>\n",
       "      <td>1.15</td>\n",
       "    </tr>\n",
       "    <tr>\n",
       "      <th>1354477.5</th>\n",
       "      <td>(-0.63, 282.75, 327.03, -14.2)</td>\n",
       "      <td>(-0.84, 29.0, 69.16, 21.59)</td>\n",
       "      <td>(-0.85, 6.03, 45.41, 16.57)</td>\n",
       "      <td>(-2.19, 20.04, 60.01, 18.7)</td>\n",
       "      <td>(-0.92, 52.79, 94.85, 22.84)</td>\n",
       "      <td>(0.0, 39.49, 80.36, 23.54)</td>\n",
       "      <td>(-0.24, 87.05, 86.77, 23.54)</td>\n",
       "      <td>(30.88, 162.33, 177.82, 35.09)</td>\n",
       "      <td>(0.63, 183.34, 183.31, -0.77)</td>\n",
       "      <td>(8.87, 281.76, 282.0, -14.45)</td>\n",
       "      <td>(14.19, 119.54, 125.39, 34.39)</td>\n",
       "      <td>(0.99, 335.85, 337.32, -8.59)</td>\n",
       "      <td>-0.63</td>\n",
       "    </tr>\n",
       "    <tr>\n",
       "      <th>1355477.5</th>\n",
       "      <td>(-1.21, 353.9, 33.59, 12.43)</td>\n",
       "      <td>(2.44, 260.63, 304.04, -17.62)</td>\n",
       "      <td>(4.5, 141.74, 184.92, 2.76)</td>\n",
       "      <td>(-1.39, 49.82, 91.59, 22.44)</td>\n",
       "      <td>(-1.67, 307.14, 350.39, -6.05)</td>\n",
       "      <td>(0.0, 306.66, 349.29, -4.71)</td>\n",
       "      <td>(-0.24, 87.08, 86.81, 23.54)</td>\n",
       "      <td>(30.88, 162.37, 177.86, 35.07)</td>\n",
       "      <td>(0.63, 183.37, 183.34, -0.78)</td>\n",
       "      <td>(8.87, 281.79, 282.04, -14.45)</td>\n",
       "      <td>(14.19, 119.58, 125.44, 34.38)</td>\n",
       "      <td>(0.99, 335.89, 337.36, -8.58)</td>\n",
       "      <td>-1.21</td>\n",
       "    </tr>\n",
       "  </tbody>\n",
       "</table>\n",
       "<p>512 rows × 13 columns</p>\n",
       "</div>"
      ],
      "text/plain": [
       "                                   Jupiter                            Venus  \\\n",
       "jd                                                                            \n",
       "844477.5     (-1.18, 352.76, 51.47, 17.97)    (7.46, 260.34, 321.29, -7.76)   \n",
       "845477.5       (0.79, 96.38, 159.35, 9.84)  (-1.57, 219.45, 281.39, -25.19)   \n",
       "846477.5     (1.4, 153.36, 212.32, -11.87)     (0.82, 82.41, 145.98, 14.93)   \n",
       "847477.5   (-0.26, 256.43, 319.89, -16.35)     (-0.84, 312.82, 12.82, 4.68)   \n",
       "848477.5      (-1.43, 324.38, 23.74, 8.58)       (-0.03, 309.93, 9.8, 4.24)   \n",
       "...                                    ...                              ...   \n",
       "1351477.5      (-0.84, 21.83, 61.72, 20.4)   (-0.57, 293.38, 337.3, -10.31)   \n",
       "1352477.5     (1.07, 123.06, 166.49, 7.07)   (0.01, 220.95, 262.04, -23.62)   \n",
       "1353477.5   (1.15, 181.52, 221.07, -14.97)    (0.52, 164.57, 204.51, -9.81)   \n",
       "1354477.5   (-0.63, 282.75, 327.03, -14.2)      (-0.84, 29.0, 69.16, 21.59)   \n",
       "1355477.5     (-1.21, 353.9, 33.59, 12.43)   (2.44, 260.63, 304.04, -17.62)   \n",
       "\n",
       "                                    Mars                           Saturn  \\\n",
       "jd                                                                          \n",
       "844477.5   (0.9, 207.59, 268.35, -23.12)   (1.62, 219.78, 281.51, -21.98)   \n",
       "845477.5   (-1.89, 333.85, 32.99, 11.58)   (0.43, 240.45, 303.56, -19.97)   \n",
       "846477.5     (1.07, 118.6, 179.93, 1.27)    (-1.13, 278.79, 341.7, -9.24)   \n",
       "847477.5    (-0.97, 334.9, 33.62, 12.78)     (-2.05, 317.07, 17.22, 5.24)   \n",
       "848477.5    (3.63, 138.5, 199.12, -4.32)    (-2.58, 344.35, 43.32, 14.26)   \n",
       "...                                  ...                              ...   \n",
       "1351477.5  (0.64, 233.33, 275.58, -23.1)  (-0.25, 277.37, 321.77, -15.57)   \n",
       "1352477.5   (-0.57, 340.08, 20.35, 8.11)    (-1.56, 299.95, 343.8, -8.74)   \n",
       "1353477.5  (0.84, 149.56, 190.68, -3.75)     (-2.73, 343.98, 24.79, 7.54)   \n",
       "1354477.5    (-0.85, 6.03, 45.41, 16.57)      (-2.19, 20.04, 60.01, 18.7)   \n",
       "1355477.5    (4.5, 141.74, 184.92, 2.76)     (-1.39, 49.82, 91.59, 22.44)   \n",
       "\n",
       "                                   Mercury                             Sun  \\\n",
       "jd                                                                           \n",
       "844477.5      (0.3, 297.78, 358.69, -0.32)     (0.0, 281.2, 343.57, -7.24)   \n",
       "845477.5    (0.82, 174.92, 233.54, -18.85)   (-0.01, 184.0, 242.8, -21.61)   \n",
       "846477.5     (-4.26, 100.91, 161.58, 3.46)     (0.0, 88.63, 151.69, 11.99)   \n",
       "847477.5       (1.69, 11.19, 70.14, 24.44)    (0.01, 357.21, 55.62, 20.18)   \n",
       "848477.5     (-0.2, 239.69, 302.8, -20.77)  (-0.0, 263.49, 326.67, -13.81)   \n",
       "...                                    ...                             ...   \n",
       "1351477.5    (1.29, 303.12, 345.66, -4.86)       (0.0, 324.15, 5.45, 2.39)   \n",
       "1352477.5  (-2.14, 240.19, 283.25, -25.43)  (-0.0, 227.61, 269.32, -23.84)   \n",
       "1353477.5      (1.72, 120.03, 163.9, 8.87)     (-0.0, 131.38, 173.69, 2.8)   \n",
       "1354477.5     (-0.92, 52.79, 94.85, 22.84)      (0.0, 39.49, 80.36, 23.54)   \n",
       "1355477.5   (-1.67, 307.14, 350.39, -6.05)    (0.0, 306.66, 349.29, -4.71)   \n",
       "\n",
       "                                  δ Cnc                           α Boo  \\\n",
       "jd                                                                        \n",
       "844477.5   (-0.42, 67.84, 66.04, 21.69)   (30.92, 143.01, 159.0, 42.79)   \n",
       "845477.5   (-0.42, 67.88, 66.08, 21.69)  (30.92, 143.05, 159.04, 42.77)   \n",
       "846477.5    (-0.42, 67.91, 66.12, 21.7)  (30.92, 143.08, 159.08, 42.76)   \n",
       "847477.5    (-0.42, 67.94, 66.16, 21.7)  (30.92, 143.12, 159.12, 42.74)   \n",
       "848477.5    (-0.42, 67.98, 66.2, 21.71)  (30.92, 143.15, 159.16, 42.73)   \n",
       "...                                 ...                             ...   \n",
       "1351477.5  (-0.24, 86.92, 86.64, 23.53)  (30.88, 162.21, 177.72, 35.13)   \n",
       "1352477.5  (-0.24, 86.97, 86.69, 23.54)  (30.88, 162.25, 177.75, 35.12)   \n",
       "1353477.5  (-0.24, 87.01, 86.73, 23.54)   (30.88, 162.29, 177.79, 35.1)   \n",
       "1354477.5  (-0.24, 87.05, 86.77, 23.54)  (30.88, 162.33, 177.82, 35.09)   \n",
       "1355477.5  (-0.24, 87.08, 86.81, 23.54)  (30.88, 162.37, 177.86, 35.07)   \n",
       "\n",
       "                                  α1 Lib                           β Aqr  \\\n",
       "jd                                                                         \n",
       "844477.5    (0.74, 164.13, 165.73, 7.05)  (9.01, 262.57, 262.41, -14.76)   \n",
       "845477.5    (0.74, 164.17, 165.76, 7.04)  (9.01, 262.61, 262.45, -14.76)   \n",
       "846477.5      (0.74, 164.2, 165.8, 7.02)  (9.01, 262.64, 262.49, -14.76)   \n",
       "847477.5    (0.74, 164.23, 165.83, 7.01)  (9.01, 262.67, 262.53, -14.76)   \n",
       "848477.5    (0.74, 164.27, 165.87, 6.99)  (9.01, 262.71, 262.56, -14.76)   \n",
       "...                                  ...                             ...   \n",
       "1351477.5  (0.63, 183.22, 183.21, -0.72)  (8.87, 281.64, 281.88, -14.46)   \n",
       "1352477.5  (0.63, 183.26, 183.24, -0.74)  (8.87, 281.68, 281.92, -14.46)   \n",
       "1353477.5   (0.63, 183.3, 183.27, -0.75)  (8.87, 281.72, 281.96, -14.46)   \n",
       "1354477.5  (0.63, 183.34, 183.31, -0.77)   (8.87, 281.76, 282.0, -14.45)   \n",
       "1355477.5  (0.63, 183.37, 183.34, -0.78)  (8.87, 281.79, 282.04, -14.45)   \n",
       "\n",
       "                                    δ Leo                           ε Psc  \\\n",
       "jd                                                                          \n",
       "844477.5     (14.09, 100.3, 102.63, 37.6)   (0.97, 316.65, 318.9, -15.27)   \n",
       "845477.5   (14.09, 100.33, 102.67, 37.59)  (0.97, 316.68, 318.94, -15.26)   \n",
       "846477.5   (14.09, 100.36, 102.72, 37.59)  (0.97, 316.72, 318.98, -15.24)   \n",
       "847477.5    (14.09, 100.4, 102.77, 37.59)  (0.97, 316.75, 319.01, -15.23)   \n",
       "848477.5   (14.09, 100.44, 102.81, 37.58)  (0.97, 316.79, 319.05, -15.22)   \n",
       "...                                   ...                             ...   \n",
       "1351477.5  (14.19, 119.42, 125.26, 34.42)   (0.99, 335.73, 337.21, -8.64)   \n",
       "1352477.5  (14.19, 119.46, 125.31, 34.41)   (0.99, 335.77, 337.25, -8.62)   \n",
       "1353477.5    (14.19, 119.5, 125.35, 34.4)   (0.99, 335.81, 337.29, -8.61)   \n",
       "1354477.5  (14.19, 119.54, 125.39, 34.39)   (0.99, 335.85, 337.32, -8.59)   \n",
       "1355477.5  (14.19, 119.58, 125.44, 34.38)   (0.99, 335.89, 337.36, -8.58)   \n",
       "\n",
       "           dist  \n",
       "jd               \n",
       "844477.5  -1.18  \n",
       "845477.5   0.79  \n",
       "846477.5   1.40  \n",
       "847477.5  -0.26  \n",
       "848477.5  -1.43  \n",
       "...         ...  \n",
       "1351477.5 -0.84  \n",
       "1352477.5  1.07  \n",
       "1353477.5  1.15  \n",
       "1354477.5 -0.63  \n",
       "1355477.5 -1.21  \n",
       "\n",
       "[512 rows x 13 columns]"
      ]
     },
     "execution_count": 11,
     "metadata": {},
     "output_type": "execute_result"
    }
   ],
   "source": [
    "import pandas as pd\n",
    "def foo(x):\n",
    "    try:\n",
    "        return eval(x)\n",
    "    except Exception as e:\n",
    "        print(e)\n",
    "        return x\n",
    "\n",
    "    return x**2\n",
    "pd.read_csv(\"../../datasets/best_fit_gruha_naks_-2400_-1000_1000.0 d~.csv\").set_index('jd').applymap(\n",
    "    lambda x: eval(x)\n",
    ").assign(\n",
    "    dist = lambda x: x.Jupiter.apply(lambda y: y[0]),\n",
    ")"
   ]
  },
  {
   "cell_type": "code",
   "execution_count": null,
   "metadata": {},
   "outputs": [],
   "source": []
  }
 ],
 "metadata": {
  "interpreter": {
   "hash": "e5b2a6882e6721deecc36b8af787d972beb8d1ed185efa748c3e558e36bb6f70"
  },
  "kernelspec": {
   "display_name": "py39-tfmetal",
   "language": "python",
   "name": "tfmetal"
  },
  "language_info": {
   "codemirror_mode": {
    "name": "ipython",
    "version": 3
   },
   "file_extension": ".py",
   "mimetype": "text/x-python",
   "name": "python",
   "nbconvert_exporter": "python",
   "pygments_lexer": "ipython3",
   "version": "3.9.10"
  },
  "orig_nbformat": 4
 },
 "nbformat": 4,
 "nbformat_minor": 2
}
