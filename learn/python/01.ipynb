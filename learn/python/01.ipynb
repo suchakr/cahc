{
 "cells": [
  {
   "cell_type": "code",
   "execution_count": 1,
   "metadata": {},
   "outputs": [
    {
     "name": "stdout",
     "output_type": "stream",
     "text": [
      "Hello Py38 - Nirmal & Anand\n"
     ]
    }
   ],
   "source": [
    "print (\"Hello Py38 - Nirmal & Anand\")"
   ]
  },
  {
   "cell_type": "code",
   "execution_count": 2,
   "metadata": {},
   "outputs": [
    {
     "data": {
      "text/plain": [
       "'Hello Py38 - Again'"
      ]
     },
     "execution_count": 2,
     "metadata": {},
     "output_type": "execute_result"
    }
   ],
   "source": [
    "\"Hello Py38 - Again\""
   ]
  },
  {
   "cell_type": "code",
   "execution_count": 3,
   "metadata": {},
   "outputs": [
    {
     "data": {
      "text/plain": [
       "1"
      ]
     },
     "execution_count": 3,
     "metadata": {},
     "output_type": "execute_result"
    }
   ],
   "source": [
    "1"
   ]
  },
  {
   "cell_type": "code",
   "execution_count": 9,
   "metadata": {},
   "outputs": [
    {
     "data": {
      "text/plain": [
       "6.662462759719942e+72"
      ]
     },
     "execution_count": 9,
     "metadata": {},
     "output_type": "execute_result"
    }
   ],
   "source": [
    "123456789.0**9\n"
   ]
  },
  {
   "cell_type": "markdown",
   "metadata": {},
   "source": [
    "Euler's identity: $ e^{i \\pi} + 1 = 0 $\n",
    "\n",
    "### RMSE equation - Markdown cells \n",
    "- Bullet1\n",
    "\n",
    "$$\n",
    "\\sqrt{\\frac{1}{m}\\sum_{i=1}^m(y_i - \\hat{y}_i)^2}\n",
    "$$\n",
    "\n"
   ]
  },
  {
   "cell_type": "markdown",
   "metadata": {},
   "source": [
    "# Learn\n",
    "- https://www.kaggle.com/learn/python - Python\n",
    "- https://www.kaggle.com/learn/ - other related courses\n"
   ]
  },
  {
   "cell_type": "code",
   "execution_count": 27,
   "metadata": {},
   "outputs": [
    {
     "data": {
      "text/plain": [
       "[1, 2, 3, 4, 5, 6, 7, 8, 9, 10]"
      ]
     },
     "execution_count": 27,
     "metadata": {},
     "output_type": "execute_result"
    }
   ],
   "source": [
    "[1, 2, 3, 4, 5, 6, 7, 8, 9, 10]"
   ]
  },
  {
   "cell_type": "code",
   "execution_count": 31,
   "metadata": {},
   "outputs": [
    {
     "data": {
      "text/plain": [
       "{'Jan': 0,\n",
       " 'Feb': 1,\n",
       " 'Mar': 2,\n",
       " 'Apr': 3,\n",
       " 'May': 4,\n",
       " 'Jun': 5,\n",
       " 'Jul': 6,\n",
       " 'Aug': 7,\n",
       " 'Sep': 8,\n",
       " 'Oct': 9,\n",
       " 'Nov': 10,\n",
       " 'Dec': 11}"
      ]
     },
     "execution_count": 31,
     "metadata": {},
     "output_type": "execute_result"
    }
   ],
   "source": [
    "{'Jan':0, 'Feb':1, 'Mar':2, 'Apr':3, 'May':4, 'Jun':5, 'Jul':6, 'Aug':7, 'Sep':8, 'Oct':9, 'Nov':10, 'Dec':11}"
   ]
  },
  {
   "cell_type": "code",
   "execution_count": 12,
   "metadata": {},
   "outputs": [
    {
     "data": {
      "text/plain": [
       "((5, 10, 15), 5, 10)"
      ]
     },
     "execution_count": 12,
     "metadata": {},
     "output_type": "execute_result"
    }
   ],
   "source": [
    "a = 5\n",
    "b = 10\n",
    "c = a + b\n",
    "d=a,b,c\n",
    "d, d[0], d[1]\t"
   ]
  },
  {
   "cell_type": "code",
   "execution_count": 13,
   "metadata": {},
   "outputs": [
    {
     "data": {
      "text/plain": [
       "(10, 5, 15)"
      ]
     },
     "execution_count": 13,
     "metadata": {},
     "output_type": "execute_result"
    }
   ],
   "source": [
    "a,b = b,a\n",
    "a,b,c"
   ]
  },
  {
   "cell_type": "code",
   "execution_count": 14,
   "metadata": {},
   "outputs": [
    {
     "data": {
      "text/plain": [
       "(4, 9, 100, 25, 225)"
      ]
     },
     "execution_count": 14,
     "metadata": {},
     "output_type": "execute_result"
    }
   ],
   "source": [
    "def square(x):\n",
    "\tx = x * x\n",
    "\treturn x\n",
    "\n",
    "square(2), square(3), square(a), square(b),square(c)"
   ]
  },
  {
   "cell_type": "code",
   "execution_count": 15,
   "metadata": {},
   "outputs": [
    {
     "data": {
      "text/plain": [
       "[4, 9, 100, 25, 225]"
      ]
     },
     "execution_count": 15,
     "metadata": {},
     "output_type": "execute_result"
    }
   ],
   "source": [
    "a1 = [ 2,3,a,b,c]\n",
    "[ square(x) for x in a1]"
   ]
  },
  {
   "cell_type": "code",
   "execution_count": 19,
   "metadata": {},
   "outputs": [
    {
     "data": {
      "text/plain": [
       "[(2, 4), (3, 9), (10, 100), (5, 25), (15, 225)]"
      ]
     },
     "execution_count": 19,
     "metadata": {},
     "output_type": "execute_result"
    }
   ],
   "source": [
    "\n",
    "[ (x , x**2) for x in [2,3,a,b,c] ]\n"
   ]
  },
  {
   "cell_type": "code",
   "execution_count": 2,
   "metadata": {},
   "outputs": [],
   "source": [
    "#declare a variable \n",
    "a = 5\n",
    "\n",
    "# declare a list\n",
    "my_list = [1, 2, 3, 4, 5]\n",
    "\n",
    "# declare a tuple\n",
    "my_tuple = (1, 2, 3, 4, 5)\n",
    "\n",
    "# declare a dictionary\n",
    "my_dict = {'Jan':0, 'Feb':1, 'Mar':2, 'Apr':3, 'May':4, 'Jun':5, 'Jul':6, 'Aug':7, 'Sep':8, 'Oct':9, 'Nov':10, 'Dec':11}\n",
    "\n",
    "#declare a set\n",
    "my_set = {1, 2, 3, 4, 5}\n",
    "\n",
    "# declare a string\n",
    "my_string = \"Hello World\"\n",
    "\n",
    "# declare a boolean\n",
    "my_bool = True\n",
    "\n",
    "#declare a float\n",
    "my_float = 1.23\n",
    "\n",
    "#declare a complex\n",
    "my_complex = 1+2j\n",
    "\n",
    "#declare a range\n",
    "my_range = range(10)"
   ]
  },
  {
   "cell_type": "code",
   "execution_count": 3,
   "metadata": {},
   "outputs": [
    {
     "data": {
      "text/plain": [
       "([1, 2, 3, 4, 5],\n",
       " [1, 2, 3, 4, 5],\n",
       " [1, 2, 3, 4, 5],\n",
       " ['H', 'e', 'l', 'l', 'o', ' ', 'W', 'o', 'r', 'l', 'd'],\n",
       " [0, 1, 2, 3, 4, 5, 6, 7, 8, 9],\n",
       " ['Jan',\n",
       "  'Feb',\n",
       "  'Mar',\n",
       "  'Apr',\n",
       "  'May',\n",
       "  'Jun',\n",
       "  'Jul',\n",
       "  'Aug',\n",
       "  'Sep',\n",
       "  'Oct',\n",
       "  'Nov',\n",
       "  'Dec'])"
      ]
     },
     "execution_count": 3,
     "metadata": {},
     "output_type": "execute_result"
    }
   ],
   "source": [
    "( \n",
    "\t[x for x in my_list] ,\n",
    "\t[x for x in my_tuple] ,\n",
    "\t[x for x in my_set] ,\n",
    "\t[x for x in my_string] ,\n",
    "\n",
    "\t[x for x in my_range] ,\n",
    "\t[x for x in my_dict] ,\n",
    ")"
   ]
  },
  {
   "cell_type": "code",
   "execution_count": 25,
   "metadata": {},
   "outputs": [
    {
     "name": "stdout",
     "output_type": "stream",
     "text": [
      "Jan 31\n",
      "Feb 28\n",
      "Mar 31\n",
      "Apr 30\n",
      "May 31\n",
      "Jun 30\n",
      "Jul 31\n",
      "Aug 31\n",
      "Sep 30\n",
      "Oct 31\n",
      "Nov 30\n",
      "Dec 31\n"
     ]
    },
    {
     "data": {
      "text/plain": [
       "{('Jan', 31): 31,\n",
       " ('Feb', 28): 28,\n",
       " ('Mar', 31): 31,\n",
       " ('Apr', 30): 30,\n",
       " ('May', 31): 31,\n",
       " ('Jun', 30): 30,\n",
       " ('Jul', 31): 31,\n",
       " ('Aug', 31): 31,\n",
       " ('Sep', 30): 30,\n",
       " ('Oct', 31): 31,\n",
       " ('Nov', 30): 30,\n",
       " ('Dec', 31): 31}"
      ]
     },
     "execution_count": 25,
     "metadata": {},
     "output_type": "execute_result"
    }
   ],
   "source": [
    "days_in_months = { 'Jan': 31, 'Feb': 28, 'Mar': 31, 'Apr': 30, 'May': 31, 'Jun': 30, 'Jul': 31, 'Aug': 31, 'Sep': 30, 'Oct': 31, 'Nov': 30, 'Dec': 31 }\n",
    "\n",
    "for month, days in days_in_months.items():\n",
    "    print (month, days)\n",
    "\n",
    "[ ( days, month) for month, days in days_in_months.items() ]\n",
    "\n",
    "{ kv:kv[1] for kv in days_in_months.items() }\n"
   ]
  },
  {
   "cell_type": "code",
   "execution_count": 30,
   "metadata": {},
   "outputs": [
    {
     "data": {
      "text/plain": [
       "(dict_keys(['Jan', 'Feb', 'Mar', 'Apr', 'May', 'Jun', 'Jul', 'Aug', 'Sep', 'Oct', 'Nov', 'Dec']),\n",
       " dict_values([31, 28, 31, 30, 31, 30, 31, 31, 30, 31, 30, 31]),\n",
       " {'Apr',\n",
       "  'Aug',\n",
       "  'Dec',\n",
       "  'Feb',\n",
       "  'Jan',\n",
       "  'Jul',\n",
       "  'Jun',\n",
       "  'Mar',\n",
       "  'May',\n",
       "  'Nov',\n",
       "  'Oct',\n",
       "  'Sep'},\n",
       " {28, 30, 31})"
      ]
     },
     "execution_count": 30,
     "metadata": {},
     "output_type": "execute_result"
    }
   ],
   "source": [
    "days_in_months.keys() , days_in_months.values(), set(days_in_months.keys()) ,set(days_in_months.values())"
   ]
  },
  {
   "cell_type": "code",
   "execution_count": 33,
   "metadata": {},
   "outputs": [
    {
     "data": {
      "text/plain": [
       "[' A♠',\n",
       " ' A♡',\n",
       " ' A♢',\n",
       " ' A♣',\n",
       " ' 2♠',\n",
       " ' 2♡',\n",
       " ' 2♢',\n",
       " ' 2♣',\n",
       " ' 3♠',\n",
       " ' 3♡',\n",
       " ' 3♢',\n",
       " ' 3♣',\n",
       " ' 4♠']"
      ]
     },
     "execution_count": 33,
     "metadata": {},
     "output_type": "execute_result"
    }
   ],
   "source": [
    "cards = [ 'A', '2', '3', '4', '5', '6', '7', '8', '9', '10', 'J', 'Q', 'K' ]\n",
    "suites = ['♠', '♡', '♢', '♣']\n",
    "\n",
    "# deck = [ (suite, card) for card in cards for suite in suites ]\n",
    "deck = [ f\"{card:>2s}{suite}\" for card in cards for suite in suites ]\n",
    "len(deck)\n",
    "deck[0:13]\n"
   ]
  },
  {
   "cell_type": "code",
   "execution_count": 36,
   "metadata": {},
   "outputs": [
    {
     "name": "stdout",
     "output_type": "stream",
     "text": [
      "[' 5♣', ' 3♣', ' J♢', ' A♠', ' 3♠']\n",
      "[' J♠', ' Q♡', '10♠', ' K♠', ' 9♡']\n"
     ]
    }
   ],
   "source": [
    "\n",
    "\n",
    "# deck = [ f\"{card}{suite}\" for card in cards for suite in suites ]\n",
    "\n",
    "\n",
    "print(deck[0:5])\n",
    "\n",
    "\n",
    "# shuffle the deck\n",
    "import random\n",
    "random.shuffle(deck)\n",
    "print(deck[0:5])\n",
    "\n",
    "# random.shuffle(deck)\n",
    "# print(deck[0:5])\n"
   ]
  },
  {
   "cell_type": "code",
   "execution_count": 40,
   "metadata": {},
   "outputs": [
    {
     "data": {
      "text/plain": [
       "[' A♠', ' A♢']"
      ]
     },
     "execution_count": 40,
     "metadata": {},
     "output_type": "execute_result"
    }
   ],
   "source": [
    "# deal the cards\n",
    "hands = [ deck[0:13], deck[13:26], deck[26:39], deck[39:52] ]\n",
    "[ ' '.join(x) for x in hands]\n",
    "\n",
    "# filter the deck\n",
    "[ x for x in hands[1] if 'A' in x ]\n",
    "\n",
    "\n"
   ]
  },
  {
   "cell_type": "code",
   "execution_count": 42,
   "metadata": {},
   "outputs": [
    {
     "data": {
      "text/plain": [
       "['01.ipynb']"
      ]
     },
     "execution_count": 42,
     "metadata": {},
     "output_type": "execute_result"
    }
   ],
   "source": [
    "import glob\n",
    "[ f for f in glob.glob(\"*\") if '~' not in f ]"
   ]
  },
  {
   "cell_type": "code",
   "execution_count": null,
   "metadata": {},
   "outputs": [],
   "source": []
  },
  {
   "cell_type": "code",
   "execution_count": 27,
   "metadata": {},
   "outputs": [
    {
     "data": {
      "text/plain": [
       "['../kovida/r_08_1.mp3',\n",
       " '../kovida/क_02.mp3',\n",
       " '../kovida/क_03.mp3',\n",
       " '../kovida/k10.jpg',\n",
       " '../kovida/क_07.mp3',\n",
       " '../kovida/क_06.mp3',\n",
       " '../kovida/क_10.mp3',\n",
       " '../kovida/क_04.mp3',\n",
       " '../kovida/क_05.mp3',\n",
       " '../kovida/क_11.mp3',\n",
       " '../kovida/r_02.mp3',\n",
       " '../kovida/a1.txt',\n",
       " '../kovida/r_03.mp3',\n",
       " '../kovida/k1.jpg',\n",
       " '../kovida/output.mkv',\n",
       " '../kovida/k3.jpg',\n",
       " '../kovida/kovida_04.mp4',\n",
       " '../kovida/k2.jpg',\n",
       " '../kovida/k6.jpg',\n",
       " '../kovida/r_04.mp3',\n",
       " '../kovida/r_10.mp3',\n",
       " '../kovida/xx1.mp3',\n",
       " '../kovida/r_05.mp3',\n",
       " '../kovida/kovida.jpg',\n",
       " '../kovida/k7.jpg',\n",
       " '../kovida/k5.jpg',\n",
       " '../kovida/r_07.mp3',\n",
       " '../kovida/feeble.mp3',\n",
       " '../kovida/r_06.mp3',\n",
       " '../kovida/k4.jpg',\n",
       " '../kovida/_x',\n",
       " '../kovida/k9.jpg',\n",
       " '../kovida/_zap.mp3',\n",
       " '../kovida/readme.md',\n",
       " '../kovida/क_08_1.mp3',\n",
       " '../kovida/k8.jpg',\n",
       " '../kovida/r_08.mp3',\n",
       " '../kovida/r_09.mp3',\n",
       " '../kovida/mp4',\n",
       " '../kovida/क_08.mp3',\n",
       " '../kovida/क_09.mp3',\n",
       " '../kovida/k08_1.jpg',\n",
       " '../kovida/concat.txt',\n",
       " '../posts/vgj_raw.md',\n",
       " '../posts/vgj_fix.md',\n",
       " '../python/01.ipynb']"
      ]
     },
     "execution_count": 27,
     "metadata": {},
     "output_type": "execute_result"
    }
   ],
   "source": [
    "import glob\n",
    "[ f1 for f0 in glob.glob(\"../*\") for f1 in glob.glob(f0 + \"/*\") ]"
   ]
  },
  {
   "cell_type": "code",
   "execution_count": 43,
   "metadata": {},
   "outputs": [
    {
     "name": "stdout",
     "output_type": "stream",
     "text": [
      "3.8.10 (default, May 19 2021, 11:01:55) \n",
      "[Clang 10.0.0 ]\n"
     ]
    }
   ],
   "source": [
    "# print version of python\n",
    "import sys\n",
    "print (sys.version)"
   ]
  },
  {
   "cell_type": "code",
   "execution_count": 47,
   "metadata": {},
   "outputs": [
    {
     "name": "stdout",
     "output_type": "stream",
     "text": [
      "Sun Nov 21 19:50:54 IST 2021\n",
      "[NbConvertApp] WARNING | pattern '01.pynb' matched no files\n",
      "This application is used to convert notebook files (*.ipynb) to various other\n",
      "formats.\n",
      "\n",
      "WARNING: THE COMMANDLINE INTERFACE MAY CHANGE IN FUTURE RELEASES.\n",
      "\n",
      "Options\n",
      "-------\n",
      "\n",
      "Arguments that take values are actually convenience aliases to full\n",
      "Configurables, whose aliases are listed on the help line. For more information\n",
      "on full configurables, see '--help-all'.\n",
      "\n",
      "--debug\n",
      "    set log level to logging.DEBUG (maximize logging output)\n",
      "--generate-config\n",
      "    generate default config file\n",
      "-y\n",
      "    Answer yes to any questions instead of prompting.\n",
      "--execute\n",
      "    Execute the notebook prior to export.\n",
      "--allow-errors\n",
      "    Continue notebook execution even if one of the cells throws an error and include the error message in the cell output (the default behaviour is to abort conversion). This flag is only relevant if '--execute' was specified, too.\n",
      "--stdin\n",
      "    read a single notebook file from stdin. Write the resulting notebook with default basename 'notebook.*'\n",
      "--stdout\n",
      "    Write notebook output to stdout instead of files.\n",
      "--inplace\n",
      "    Run nbconvert in place, overwriting the existing notebook (only \n",
      "    relevant when converting to notebook format)\n",
      "--clear-output\n",
      "    Clear output of current file and save in place, \n",
      "    overwriting the existing notebook.\n",
      "--no-prompt\n",
      "    Exclude input and output prompts from converted document.\n",
      "--no-input\n",
      "    Exclude input cells and output prompts from converted document. \n",
      "    This mode is ideal for generating code-free reports.\n",
      "--log-level=<Enum> (Application.log_level)\n",
      "    Default: 30\n",
      "    Choices: (0, 10, 20, 30, 40, 50, 'DEBUG', 'INFO', 'WARN', 'ERROR', 'CRITICAL')\n",
      "    Set the log level by value or name.\n",
      "--config=<Unicode> (JupyterApp.config_file)\n",
      "    Default: ''\n",
      "    Full path of a config file.\n",
      "--to=<Unicode> (NbConvertApp.export_format)\n",
      "    Default: 'html'\n",
      "    The export format to be used, either one of the built-in formats, or a\n",
      "    dotted object name that represents the import path for an `Exporter` class\n",
      "--template=<Unicode> (TemplateExporter.template_file)\n",
      "    Default: ''\n",
      "    Name of the template file to use\n",
      "--writer=<DottedObjectName> (NbConvertApp.writer_class)\n",
      "    Default: 'FilesWriter'\n",
      "    Writer class used to write the  results of the conversion\n",
      "--post=<DottedOrNone> (NbConvertApp.postprocessor_class)\n",
      "    Default: ''\n",
      "    PostProcessor class used to write the results of the conversion\n",
      "--output=<Unicode> (NbConvertApp.output_base)\n",
      "    Default: ''\n",
      "    overwrite base name use for output files. can only be used when converting\n",
      "    one notebook at a time.\n",
      "--output-dir=<Unicode> (FilesWriter.build_directory)\n",
      "    Default: ''\n",
      "    Directory to write output(s) to. Defaults to output to the directory of each\n",
      "    notebook. To recover previous default behaviour (outputting to the current\n",
      "    working directory) use . as the flag value.\n",
      "--reveal-prefix=<Unicode> (SlidesExporter.reveal_url_prefix)\n",
      "    Default: ''\n",
      "    The URL prefix for reveal.js (version 3.x). This defaults to the reveal CDN,\n",
      "    but can be any url pointing to a copy  of reveal.js.\n",
      "    For speaker notes to work, this must be a relative path to a local  copy of\n",
      "    reveal.js: e.g., \"reveal.js\".\n",
      "    If a relative path is given, it must be a subdirectory of the current\n",
      "    directory (from which the server is run).\n",
      "    See the usage documentation\n",
      "    (https://nbconvert.readthedocs.io/en/latest/usage.html#reveal-js-html-\n",
      "    slideshow) for more details.\n",
      "--nbformat=<Enum> (NotebookExporter.nbformat_version)\n",
      "    Default: 4\n",
      "    Choices: [1, 2, 3, 4]\n",
      "    The nbformat version to write. Use this to downgrade notebooks.\n",
      "\n",
      "To see all available configurables, use `--help-all`\n",
      "\n",
      "Examples\n",
      "--------\n",
      "\n",
      "    The simplest way to use nbconvert is\n",
      "    \n",
      "    > jupyter nbconvert mynotebook.ipynb\n",
      "    \n",
      "    which will convert mynotebook.ipynb to the default format (probably HTML).\n",
      "    \n",
      "    You can specify the export format with `--to`.\n",
      "    Options include ['asciidoc', 'custom', 'html', 'latex', 'markdown', 'notebook', 'pdf', 'python', 'rst', 'script', 'slides']\n",
      "    \n",
      "    > jupyter nbconvert --to latex mynotebook.ipynb\n",
      "    \n",
      "    Both HTML and LaTeX support multiple output templates. LaTeX includes\n",
      "    'base', 'article' and 'report'.  HTML includes 'basic' and 'full'. You\n",
      "    can specify the flavor of the format used.\n",
      "    \n",
      "    > jupyter nbconvert --to html --template basic mynotebook.ipynb\n",
      "    \n",
      "    You can also pipe the output to stdout, rather than a file\n",
      "    \n",
      "    > jupyter nbconvert mynotebook.ipynb --stdout\n",
      "    \n",
      "    PDF is generated via latex\n",
      "    \n",
      "    > jupyter nbconvert mynotebook.ipynb --to pdf\n",
      "    \n",
      "    You can get (and serve) a Reveal.js-powered slideshow\n",
      "    \n",
      "    > jupyter nbconvert myslides.ipynb --to slides --post serve\n",
      "    \n",
      "    Multiple notebooks can be given at the command line in a couple of \n",
      "    different ways:\n",
      "    \n",
      "    > jupyter nbconvert notebook*.ipynb\n",
      "    > jupyter nbconvert notebook1.ipynb notebook2.ipynb\n",
      "    \n",
      "    or you can specify the notebooks list in a config file, containing::\n",
      "    \n",
      "        c.NbConvertApp.notebooks = [\"my_notebook.ipynb\"]\n",
      "    \n",
      "    > jupyter nbconvert --config mycfg.py\n",
      "\n"
     ]
    }
   ],
   "source": [
    "!rm ./01~.py 2>/dev/null\n",
    "!date\n",
    "!~/anaconda3/bin/jupyter nbconvert 01.pynb --to script 2>&1 | tee ~/tmp/nbconvert.log\n"
   ]
  },
  {
   "cell_type": "code",
   "execution_count": 56,
   "metadata": {},
   "outputs": [
    {
     "data": {
      "text/plain": [
       "(57888, 110)"
      ]
     },
     "execution_count": 56,
     "metadata": {},
     "output_type": "execute_result"
    }
   ],
   "source": [
    "GG = 110\n",
    "\n",
    "def H(x):\n",
    "\tglobal GG\n",
    "\tGG =57777\n",
    "\treturn GG+x+1\n",
    "\n",
    "H(GG), GG\n"
   ]
  },
  {
   "cell_type": "code",
   "execution_count": 60,
   "metadata": {},
   "outputs": [
    {
     "name": "stdout",
     "output_type": "stream",
     "text": [
      "print(\"Hello World\")"
     ]
    }
   ],
   "source": [
    "!cat x*"
   ]
  },
  {
   "cell_type": "code",
   "execution_count": 61,
   "metadata": {},
   "outputs": [
    {
     "data": {
      "text/plain": [
       "(1, ['print(\"Hello World\")'])"
      ]
     },
     "execution_count": 61,
     "metadata": {},
     "output_type": "execute_result"
    }
   ],
   "source": [
    "# write a string to file using with\n",
    "with open(\"xx~.py\", \"w\") as f:\n",
    "\tf.write(\"print(\\\"Hello World\\\")\")\n",
    "\n",
    "# read a file using with\n",
    "with open(\"xx~.py\", \"r\") as f:\n",
    "\tlines = f.readlines()\n",
    "\n",
    "len(lines), lines\n",
    "\n"
   ]
  },
  {
   "cell_type": "code",
   "execution_count": null,
   "metadata": {},
   "outputs": [],
   "source": [
    "# create a class\n",
    "class MyClass:\n",
    "\tdef __init__(self, x):\n",
    "\t\tself.x = x\n",
    "\tdef __str__(self):\n",
    "\t\treturn str(self.x)"
   ]
  },
  {
   "cell_type": "code",
   "execution_count": 64,
   "metadata": {},
   "outputs": [
    {
     "name": "stdout",
     "output_type": "stream",
     "text": [
      "(1, 2) (3, 4)\n"
     ]
    },
    {
     "data": {
      "text/plain": [
       "(Data(1, 2), Data(3, 4), Data(4, 6), Data(2, 2))"
      ]
     },
     "execution_count": 64,
     "metadata": {},
     "output_type": "execute_result"
    }
   ],
   "source": [
    "# create a  useful class\n",
    "class Point:\n",
    "\tdef __init__(self, x, y):\n",
    "\t\tself.x = x\n",
    "\t\tself.y = y\n",
    "\n",
    "\tdef __repr__(self):\n",
    "\t\treturn f\"Data({self.x}, {self.y})\"\n",
    "\n",
    "\tdef __str__(self):\n",
    "\t\treturn f\"({self.x}, {self.y})\"\n",
    "\n",
    "\tdef __add__(self, other):\n",
    "\t\treturn Point(self.x + other.x, self.y + other.y)\n",
    "\n",
    "\tdef __sub__(self, other):\n",
    "\t\treturn Point(self.x - other.x, self.y - other.y)\n",
    "\n",
    "d0 = Point(1, 2)\n",
    "d1 = Point(3, 4)\n",
    "\n",
    "print(d0, d1)\n",
    "d0, d1, d1+d0, d1-d0\n",
    "\n",
    "\n",
    "\n"
   ]
  },
  {
   "cell_type": "code",
   "execution_count": null,
   "metadata": {},
   "outputs": [],
   "source": [
    "# implement binary search\n",
    "def binary_search(a, x, lo=0, hi=None):\n",
    "\tif hi is None:\n",
    "\t\thi = len(a)\n",
    "\twhile lo < hi:\n",
    "\t\tmid = (lo + hi) // 2\n",
    "\t\tif a[mid] < x:\n",
    "\t\t\tlo = mid + 1\n",
    "\t\telse:\n",
    "\t\t\thi = mid\n",
    "\treturn lo\n",
    "\t"
   ]
  }
 ],
 "metadata": {
  "interpreter": {
   "hash": "e5b2a6882e6721deecc36b8af787d972beb8d1ed185efa748c3e558e36bb6f70"
  },
  "kernelspec": {
   "display_name": "Python 3.8.10 64-bit ('py38': conda)",
   "language": "python",
   "name": "python3"
  },
  "language_info": {
   "codemirror_mode": {
    "name": "ipython",
    "version": 3
   },
   "file_extension": ".py",
   "mimetype": "text/x-python",
   "name": "python",
   "nbconvert_exporter": "python",
   "pygments_lexer": "ipython3",
   "version": "3.8.10"
  },
  "orig_nbformat": 4
 },
 "nbformat": 4,
 "nbformat_minor": 2
}
